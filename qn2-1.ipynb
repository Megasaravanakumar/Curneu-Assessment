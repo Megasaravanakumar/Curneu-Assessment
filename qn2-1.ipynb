{
 "cells": [
  {
   "cell_type": "code",
   "execution_count": 1,
   "metadata": {},
   "outputs": [],
   "source": [
    "import numpy as np #mathamatical tools\n",
    "import matplotlib.pyplot as plt #plot charts\n",
    "import pandas as pd #import and manage dataset"
   ]
  },
  {
   "cell_type": "code",
   "execution_count": 2,
   "metadata": {},
   "outputs": [
    {
     "name": "stdout",
     "output_type": "stream",
     "text": [
      "                                    Country  Year  No. of cases  \\\n",
      "0                               Afghanistan  2017      161778.0   \n",
      "1                                   Algeria  2017           0.0   \n",
      "2                                    Angola  2017     3874892.0   \n",
      "3                                 Argentina  2017           0.0   \n",
      "4                                   Armenia  2017           0.0   \n",
      "5                                Azerbaijan  2017           0.0   \n",
      "6                                Bangladesh  2017        4893.0   \n",
      "7                                    Belize  2017           7.0   \n",
      "8                                     Benin  2017     1573163.0   \n",
      "9                                    Bhutan  2017          24.0   \n",
      "10         Bolivia (Plurinational State of)  2017        4572.0   \n",
      "11                                 Botswana  2017        1900.0   \n",
      "12                                   Brazil  2017      189503.0   \n",
      "13                             Burkina Faso  2017    10225459.0   \n",
      "14                                  Burundi  2017     7670177.0   \n",
      "15                               Cabo Verde  2017         423.0   \n",
      "16                                 Cambodia  2017       36932.0   \n",
      "17                                 Cameroon  2017     1191257.0   \n",
      "18                 Central African Republic  2017      383309.0   \n",
      "19                                     Chad  2017     1962372.0   \n",
      "20                                    China  2017           0.0   \n",
      "21                                 Colombia  2017       52805.0   \n",
      "22                                  Comoros  2017        2274.0   \n",
      "23                                    Congo  2017      127939.0   \n",
      "24                               Costa Rica  2017          12.0   \n",
      "25                            Côte d'Ivoire  2017     3274683.0   \n",
      "26    Democratic People's Republic of Korea  2017        4575.0   \n",
      "27         Democratic Republic of the Congo  2017    15176927.0   \n",
      "28                                 Djibouti  2017       14671.0   \n",
      "29                       Dominican Republic  2017         341.0   \n",
      "...                                     ...   ...           ...   \n",
      "1914                      Republic of Korea  2000        4183.0   \n",
      "1915                                 Rwanda  2000           NaN   \n",
      "1916                  Sao Tome and Principe  2000       31975.0   \n",
      "1917                           Saudi Arabia  2000        6608.0   \n",
      "1918                                Senegal  2000       44959.0   \n",
      "1919                           Sierra Leone  2000           NaN   \n",
      "1920                        Solomon Islands  2000       68107.0   \n",
      "1921                                Somalia  2000           NaN   \n",
      "1922                           South Africa  2000           NaN   \n",
      "1923                            South Sudan  2000           NaN   \n",
      "1924                              Sri Lanka  2000      210039.0   \n",
      "1925                                  Sudan  2000      368557.0   \n",
      "1926                               Suriname  2000       11361.0   \n",
      "1927                   Syrian Arab Republic  2000           6.0   \n",
      "1928                             Tajikistan  2000       19064.0   \n",
      "1929                               Thailand  2000       78561.0   \n",
      "1930                            Timor-Leste  2000       15212.0   \n",
      "1931                                   Togo  2000           NaN   \n",
      "1932                                 Turkey  2000       11432.0   \n",
      "1933                           Turkmenistan  2000          24.0   \n",
      "1934                                 Uganda  2000           NaN   \n",
      "1935                   United Arab Emirates  2000           NaN   \n",
      "1936            United Republic of Tanzania  2000       17734.0   \n",
      "1937                             Uzbekistan  2000         126.0   \n",
      "1938                                Vanuatu  2000        6768.0   \n",
      "1939     Venezuela (Bolivarian Republic of)  2000       29736.0   \n",
      "1940                               Viet Nam  2000       74316.0   \n",
      "1941                                  Yemen  2000     1394495.0   \n",
      "1942                                 Zambia  2000           NaN   \n",
      "1943                               Zimbabwe  2000           NaN   \n",
      "\n",
      "      No. of deaths             WHO Region  \n",
      "0              10.0  Eastern Mediterranean  \n",
      "1               0.0                 Africa  \n",
      "2           13967.0                 Africa  \n",
      "3               1.0               Americas  \n",
      "4               NaN                 Europe  \n",
      "5               NaN                 Europe  \n",
      "6              13.0        South-East Asia  \n",
      "7               0.0               Americas  \n",
      "8            2182.0                 Africa  \n",
      "9               1.0        South-East Asia  \n",
      "10              0.0               Americas  \n",
      "11             17.0                 Africa  \n",
      "12             30.0               Americas  \n",
      "13           4144.0                 Africa  \n",
      "14           4414.0                 Africa  \n",
      "15              2.0                 Africa  \n",
      "16              1.0        Western Pacific  \n",
      "17           3195.0                 Africa  \n",
      "18           3689.0                 Africa  \n",
      "19           2088.0                 Africa  \n",
      "20              7.0        Western Pacific  \n",
      "21             19.0               Americas  \n",
      "22              3.0                 Africa  \n",
      "23            229.0               Americas  \n",
      "24              0.0               Americas  \n",
      "25           3222.0                 Africa  \n",
      "26              0.0        Western Pacific  \n",
      "27          27458.0                 Africa  \n",
      "28              NaN  Eastern Mediterranean  \n",
      "29              1.0               Americas  \n",
      "...             ...                    ...  \n",
      "1914            0.0        Western Pacific  \n",
      "1915            NaN                 Africa  \n",
      "1916          254.0                 Africa  \n",
      "1917            NaN  Eastern Mediterranean  \n",
      "1918         1275.0                 Africa  \n",
      "1919            NaN                 Africa  \n",
      "1920           38.0        Western Pacific  \n",
      "1921            NaN  Eastern Mediterranean  \n",
      "1922          424.0                 Africa  \n",
      "1923            NaN                 Africa  \n",
      "1924           77.0        South-East Asia  \n",
      "1925         2162.0  Eastern Mediterranean  \n",
      "1926           24.0               Americas  \n",
      "1927            NaN  Eastern Mediterranean  \n",
      "1928            0.0                 Europe  \n",
      "1929          625.0        South-East Asia  \n",
      "1930            NaN        South-East Asia  \n",
      "1931            NaN                 Africa  \n",
      "1932            0.0                 Europe  \n",
      "1933            0.0                 Europe  \n",
      "1934            NaN                 Africa  \n",
      "1935            NaN  Eastern Mediterranean  \n",
      "1936          379.0                 Africa  \n",
      "1937            0.0                 Europe  \n",
      "1938            3.0        Western Pacific  \n",
      "1939           24.0               Americas  \n",
      "1940          142.0        Western Pacific  \n",
      "1941            NaN  Eastern Mediterranean  \n",
      "1942            NaN                 Africa  \n",
      "1943            NaN                 Africa  \n",
      "\n",
      "[1944 rows x 5 columns]\n"
     ]
    }
   ],
   "source": [
    "dataset=pd.read_csv(\"reportnum.csv\")\n",
    "print(dataset)\n",
    "#indexes start with 0 here, in R it starts with 1"
   ]
  },
  {
   "cell_type": "code",
   "execution_count": 3,
   "metadata": {},
   "outputs": [],
   "source": [
    "# considering the independent variables as X and dependent variables as Y \n",
    "X=dataset.iloc[:,:-1].values #all data except the last column \n",
    "Y=dataset.iloc[:,3].values #only the column with index 3"
   ]
  },
  {
   "cell_type": "code",
   "execution_count": 4,
   "metadata": {},
   "outputs": [
    {
     "name": "stdout",
     "output_type": "stream",
     "text": [
      "[['Afghanistan' 2017 161778.0 10.0]\n",
      " ['Algeria' 2017 0.0 0.0]\n",
      " ['Angola' 2017 3874892.0 13967.0]\n",
      " ...\n",
      " ['Yemen' 2000 1394495.0 nan]\n",
      " ['Zambia' 2000 nan nan]\n",
      " ['Zimbabwe' 2000 nan nan]]\n"
     ]
    }
   ],
   "source": [
    "print(X)"
   ]
  },
  {
   "cell_type": "code",
   "execution_count": 5,
   "metadata": {},
   "outputs": [
    {
     "name": "stdout",
     "output_type": "stream",
     "text": [
      "[1.0000e+01 0.0000e+00 1.3967e+04 ...        nan        nan        nan]\n"
     ]
    }
   ],
   "source": [
    "print(Y)"
   ]
  },
  {
   "cell_type": "code",
   "execution_count": 6,
   "metadata": {},
   "outputs": [
    {
     "name": "stdout",
     "output_type": "stream",
     "text": [
      "[['Afghanistan' 2017.0 161778.0 10.0]\n",
      " ['Algeria' 2017.0 0.0 0.0]\n",
      " ['Angola' 2017.0 3874892.0 13967.0]\n",
      " ...\n",
      " ['Yemen' 2000.0 1394495.0 nan]\n",
      " ['Zambia' 2000.0 389730.2514619883 nan]\n",
      " ['Zimbabwe' 2000.0 389730.2514619883 nan]]\n"
     ]
    }
   ],
   "source": [
    "#missing data\n",
    "from sklearn.impute import SimpleImputer\n",
    "imputer=SimpleImputer(missing_values=np.nan,strategy='mean')\n",
    "imputer.fit(X[:, 1:3])\n",
    "X[:, 1:3]=imputer.transform(X[:, 1:3])\n",
    "print(X)"
   ]
  },
  {
   "cell_type": "code",
   "execution_count": 7,
   "metadata": {},
   "outputs": [
    {
     "name": "stdout",
     "output_type": "stream",
     "text": [
      "  (0, 0)\t1.0\n",
      "  (0, 108)\t2017.0\n",
      "  (0, 109)\t161778.0\n",
      "  (0, 110)\t10.0\n",
      "  (1, 1)\t1.0\n",
      "  (1, 108)\t2017.0\n",
      "  (2, 2)\t1.0\n",
      "  (2, 108)\t2017.0\n",
      "  (2, 109)\t3874892.0\n",
      "  (2, 110)\t13967.0\n",
      "  (3, 3)\t1.0\n",
      "  (3, 108)\t2017.0\n",
      "  (3, 110)\t1.0\n",
      "  (4, 4)\t1.0\n",
      "  (4, 108)\t2017.0\n",
      "  (4, 110)\tnan\n",
      "  (5, 5)\t1.0\n",
      "  (5, 108)\t2017.0\n",
      "  (5, 110)\tnan\n",
      "  (6, 6)\t1.0\n",
      "  (6, 108)\t2017.0\n",
      "  (6, 109)\t4893.0\n",
      "  (6, 110)\t13.0\n",
      "  (7, 7)\t1.0\n",
      "  (7, 108)\t2017.0\n",
      "  :\t:\n",
      "  (1937, 109)\t126.0\n",
      "  (1938, 102)\t1.0\n",
      "  (1938, 108)\t2000.0\n",
      "  (1938, 109)\t6768.0\n",
      "  (1938, 110)\t3.0\n",
      "  (1939, 103)\t1.0\n",
      "  (1939, 108)\t2000.0\n",
      "  (1939, 109)\t29736.0\n",
      "  (1939, 110)\t24.0\n",
      "  (1940, 104)\t1.0\n",
      "  (1940, 108)\t2000.0\n",
      "  (1940, 109)\t74316.0\n",
      "  (1940, 110)\t142.0\n",
      "  (1941, 105)\t1.0\n",
      "  (1941, 108)\t2000.0\n",
      "  (1941, 109)\t1394495.0\n",
      "  (1941, 110)\tnan\n",
      "  (1942, 106)\t1.0\n",
      "  (1942, 108)\t2000.0\n",
      "  (1942, 109)\t389730.2514619883\n",
      "  (1942, 110)\tnan\n",
      "  (1943, 107)\t1.0\n",
      "  (1943, 108)\t2000.0\n",
      "  (1943, 109)\t389730.2514619883\n",
      "  (1943, 110)\tnan\n"
     ]
    }
   ],
   "source": [
    "# encoding independent variables...\n",
    "# Onehutencoding creates binary codes of each vectors like france-1 0 0, germany-0 1 0,spain-0 0 1 for the three countries insted of 0 1 2\n",
    "# we replace no and yes as 0 and 1\n",
    "from sklearn.compose import ColumnTransformer\n",
    "from sklearn.preprocessing import OneHotEncoder\n",
    "ct=ColumnTransformer(transformers=[('encoder',OneHotEncoder(),[0])],remainder='passthrough')\n",
    "X=ct.fit_transform(X)\n",
    "print(X)"
   ]
  },
  {
   "cell_type": "code",
   "execution_count": 8,
   "metadata": {},
   "outputs": [
    {
     "name": "stdout",
     "output_type": "stream",
     "text": [
      "[ 10   0 676 ... 715 851 976]\n"
     ]
    }
   ],
   "source": [
    "# encoding dependent variables\n",
    "from sklearn.preprocessing import LabelEncoder\n",
    "le=LabelEncoder()\n",
    "Y=le.fit_transform(Y)\n",
    "print(Y)"
   ]
  },
  {
   "cell_type": "code",
   "execution_count": null,
   "metadata": {},
   "outputs": [],
   "source": []
  }
 ],
 "metadata": {
  "kernelspec": {
   "display_name": "Python 3",
   "language": "python",
   "name": "python3"
  },
  "language_info": {
   "codemirror_mode": {
    "name": "ipython",
    "version": 3
   },
   "file_extension": ".py",
   "mimetype": "text/x-python",
   "name": "python",
   "nbconvert_exporter": "python",
   "pygments_lexer": "ipython3",
   "version": "3.7.1"
  }
 },
 "nbformat": 4,
 "nbformat_minor": 2
}
